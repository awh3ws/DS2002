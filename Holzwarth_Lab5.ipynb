{
 "cells": [
  {
   "cell_type": "code",
   "execution_count": 113,
   "id": "58a0cb09",
   "metadata": {},
   "outputs": [],
   "source": [
    "# Import necessary Libraries & Paackages\n",
    "#!pip install zipcodes\n",
    "#!pip install pgeocode\n",
    "import requests\n",
    "from bs4 import BeautifulSoup\n",
    "import pandas as pd\n",
    "import zipcodes\n",
    "import pgeocode\n",
    "import pymongo"
   ]
  },
  {
   "cell_type": "code",
   "execution_count": 114,
   "id": "04603cc3",
   "metadata": {},
   "outputs": [
    {
     "name": "stdout",
     "output_type": "stream",
     "text": [
      "What zipcode do you want the 7 day forcase for? 22932\n",
      "22932 is a correct zipcode\n"
     ]
    }
   ],
   "source": [
    "# Ask the User for a Zipcode\n",
    "zipcode = input('What zipcode do you want the 7 day forcase for? ')\n",
    "\n",
    "# Test if zipcode is a number\n",
    "try:\n",
    "    int(zipcode)\n",
    "except ValueError as ve:\n",
    "    raise Exception ('You entered'+zipcode+' as a zipcode, which is not a number.')\n",
    "\n",
    "# Test if zipcode is real\n",
    "if zipcodes.is_real(zipcode):\n",
    "    print(zipcode +' is a correct zipcode')\n",
    "else:\n",
    "    raise Exception('Type a correct 5 digit zipcode to continue')"
   ]
  },
  {
   "cell_type": "code",
   "execution_count": 115,
   "id": "7dff766e",
   "metadata": {},
   "outputs": [],
   "source": [
    "# Convert Zipcode Latitude & Longitude\n",
    "nation = pgeocode.Nominatim('us')\n",
    "query = nation.query_postal_code(zipcode)\n",
    "\n",
    "latitude = str(query[\"latitude\"])\n",
    "longitude = str(query[\"longitude\"])"
   ]
  },
  {
   "cell_type": "code",
   "execution_count": 116,
   "id": "f99088ed",
   "metadata": {},
   "outputs": [],
   "source": [
    "# Scrape National Weather Service for 7-day forcast \n",
    "page = requests.get(\"https://forecast.weather.gov/MapClick.php?lat=\"+latitude+\"&lon=\"+longitude+\"#.Y21NyOzMIUp\")\n",
    "soup = BeautifulSoup(page.content, 'html.parser')\n",
    "seven_day = soup.find(id==\"seven-day-forecast\")\n",
    "forecast_items = seven_day.find_all(class_=\"tombstone-container\")\n",
    "\n",
    "period_tags = seven_day.select(\".tombstone-container .period-name\")\n",
    "periods = [pt.get_text() for pt in period_tags]\n",
    "\n",
    "short_descs = [sd.get_text() for sd in seven_day.select(\".tombstone-container .short-desc\")]\n",
    "temps = [t.get_text() for t in seven_day.select(\".tombstone-container .temp\")]"
   ]
  },
  {
   "cell_type": "code",
   "execution_count": 117,
   "id": "20093e49",
   "metadata": {},
   "outputs": [],
   "source": [
    "# Scrape National Weather Serice for humidity, windspeed, Dewpoint and Last Update Time\n",
    "page = requests.get(\"https://forecast.weather.gov/MapClick.php?lat=\"+latitude+\"&lon=\"+longitude+\"#.Y21NyOzMIUp\")\n",
    "soup = BeautifulSoup(page.content, 'html.parser')\n",
    "current_weather_conditions = soup.find(id=\"current_conditions_detail\").find_all(name = 'td')\n",
    "\n",
    "humidity = current_weather_conditions[1].string\n",
    "\n",
    "wind_speed = current_weather_conditions[3].string\n",
    "\n",
    "dew_point = current_weather_conditions[7].string\n",
    "\n",
    "last_updated_time = current_weather_conditions[11].string.strip()"
   ]
  },
  {
   "cell_type": "code",
   "execution_count": 118,
   "id": "caf5e5f5",
   "metadata": {},
   "outputs": [
    {
     "data": {
      "text/html": [
       "<div>\n",
       "<style scoped>\n",
       "    .dataframe tbody tr th:only-of-type {\n",
       "        vertical-align: middle;\n",
       "    }\n",
       "\n",
       "    .dataframe tbody tr th {\n",
       "        vertical-align: top;\n",
       "    }\n",
       "\n",
       "    .dataframe thead th {\n",
       "        text-align: right;\n",
       "    }\n",
       "</style>\n",
       "<table border=\"1\" class=\"dataframe\">\n",
       "  <thead>\n",
       "    <tr style=\"text-align: right;\">\n",
       "      <th></th>\n",
       "      <th>Period</th>\n",
       "      <th>Weather</th>\n",
       "      <th>Temperature</th>\n",
       "    </tr>\n",
       "  </thead>\n",
       "  <tbody>\n",
       "    <tr>\n",
       "      <th>0</th>\n",
       "      <td>Overnight</td>\n",
       "      <td>Showers</td>\n",
       "      <td>Low: 58 °F</td>\n",
       "    </tr>\n",
       "    <tr>\n",
       "      <th>1</th>\n",
       "      <td>VeteransDay</td>\n",
       "      <td>Heavy Rain</td>\n",
       "      <td>High: 70 °F</td>\n",
       "    </tr>\n",
       "    <tr>\n",
       "      <th>2</th>\n",
       "      <td>FridayNight</td>\n",
       "      <td>Showers</td>\n",
       "      <td>Low: 58 °F</td>\n",
       "    </tr>\n",
       "    <tr>\n",
       "      <th>3</th>\n",
       "      <td>Saturday</td>\n",
       "      <td>Mostly Sunny</td>\n",
       "      <td>High: 67 °F</td>\n",
       "    </tr>\n",
       "    <tr>\n",
       "      <th>4</th>\n",
       "      <td>SaturdayNight</td>\n",
       "      <td>Mostly Cloudy</td>\n",
       "      <td>Low: 40 °F</td>\n",
       "    </tr>\n",
       "    <tr>\n",
       "      <th>5</th>\n",
       "      <td>Sunday</td>\n",
       "      <td>Sunny</td>\n",
       "      <td>High: 48 °F</td>\n",
       "    </tr>\n",
       "    <tr>\n",
       "      <th>6</th>\n",
       "      <td>SundayNight</td>\n",
       "      <td>Clear</td>\n",
       "      <td>Low: 31 °F</td>\n",
       "    </tr>\n",
       "    <tr>\n",
       "      <th>7</th>\n",
       "      <td>Monday</td>\n",
       "      <td>Mostly Sunny</td>\n",
       "      <td>High: 47 °F</td>\n",
       "    </tr>\n",
       "    <tr>\n",
       "      <th>8</th>\n",
       "      <td>MondayNight</td>\n",
       "      <td>Partly Cloudy</td>\n",
       "      <td>Low: 31 °F</td>\n",
       "    </tr>\n",
       "  </tbody>\n",
       "</table>\n",
       "</div>"
      ],
      "text/plain": [
       "          Period        Weather  Temperature\n",
       "0      Overnight        Showers   Low: 58 °F\n",
       "1    VeteransDay     Heavy Rain  High: 70 °F\n",
       "2    FridayNight        Showers   Low: 58 °F\n",
       "3       Saturday   Mostly Sunny  High: 67 °F\n",
       "4  SaturdayNight  Mostly Cloudy   Low: 40 °F\n",
       "5         Sunday          Sunny  High: 48 °F\n",
       "6    SundayNight          Clear   Low: 31 °F\n",
       "7         Monday   Mostly Sunny  High: 47 °F\n",
       "8    MondayNight  Partly Cloudy   Low: 31 °F"
      ]
     },
     "metadata": {},
     "output_type": "display_data"
    },
    {
     "data": {
      "text/html": [
       "<div>\n",
       "<style scoped>\n",
       "    .dataframe tbody tr th:only-of-type {\n",
       "        vertical-align: middle;\n",
       "    }\n",
       "\n",
       "    .dataframe tbody tr th {\n",
       "        vertical-align: top;\n",
       "    }\n",
       "\n",
       "    .dataframe thead th {\n",
       "        text-align: right;\n",
       "    }\n",
       "</style>\n",
       "<table border=\"1\" class=\"dataframe\">\n",
       "  <thead>\n",
       "    <tr style=\"text-align: right;\">\n",
       "      <th></th>\n",
       "      <th>Last Updated Time</th>\n",
       "      <th>Humidity</th>\n",
       "      <th>Wind Speed</th>\n",
       "      <th>Dew Point</th>\n",
       "    </tr>\n",
       "  </thead>\n",
       "  <tbody>\n",
       "    <tr>\n",
       "      <th>0</th>\n",
       "      <td>11 Nov 12:15 am EST</td>\n",
       "      <td>99%</td>\n",
       "      <td>Calm</td>\n",
       "      <td>55°F (13°C)</td>\n",
       "    </tr>\n",
       "  </tbody>\n",
       "</table>\n",
       "</div>"
      ],
      "text/plain": [
       "     Last Updated Time Humidity Wind Speed    Dew Point\n",
       "0  11 Nov 12:15 am EST      99%       Calm  55°F (13°C)"
      ]
     },
     "metadata": {},
     "output_type": "display_data"
    }
   ],
   "source": [
    "# Create 7_day Forecast Dataframe\n",
    "weather_forecast = pd.DataFrame({\n",
    "    \"Period\": periods,\n",
    "    \"Weather\": short_descs,\n",
    "    \"Temperature\": temps})\n",
    "\n",
    "#Create Current Conditions Dataframe\n",
    "current_conditions = pd.DataFrame({\n",
    "    \"Last Updated Time\": last_updated_time,\n",
    "    \"Humidity\": humidity,\n",
    "    \"Wind Speed\": wind_speed,\n",
    "    \"Dew Point\": dew_point}, index=[0])\n",
    "\n",
    "display(weather_forecast)\n",
    "display(current_conditions)"
   ]
  },
  {
   "cell_type": "code",
   "execution_count": 119,
   "id": "98e9d940",
   "metadata": {},
   "outputs": [
    {
     "data": {
      "text/plain": [
       "<pymongo.results.InsertManyResult at 0x7fd2f0b56040>"
      ]
     },
     "execution_count": 119,
     "metadata": {},
     "output_type": "execute_result"
    }
   ],
   "source": [
    "#Connect to Mongo\n",
    "host_name = \"localhost\"\n",
    "port = \"27017\"\n",
    "\n",
    "conn_str = {\"local\" : f\"mongodb://{host_name}:{port}/\",}\n",
    "client = pymongo.MongoClient(conn_str[\"local\"])\n",
    "\n",
    "#Create Database\n",
    "db = client[\"Lab5\"]\n",
    "\n",
    "#Create Collections\n",
    "collection1 = db['7Day_Forecast']\n",
    "collection2 = db[\"Current_Weather\"]\n",
    "\n",
    "\n",
    "# 7 Day Forecast into Mongo\n",
    "weather_forecast.reset_index(inplace=True)\n",
    "weather_forecast_dict = weather_forecast.to_dict('records')\n",
    "collection1.insert_many(weather_forecast_dict)\n",
    "\n",
    "# Current Conditions into Mongo\n",
    "current_conditions.reset_index(inplace=True)\n",
    "current_conditions_dict = current_conditions.to_dict('records')\n",
    "collection2.insert_many(current_conditions_dict)"
   ]
  }
 ],
 "metadata": {
  "kernelspec": {
   "display_name": "Python 3 (ipykernel)",
   "language": "python",
   "name": "python3"
  },
  "language_info": {
   "codemirror_mode": {
    "name": "ipython",
    "version": 3
   },
   "file_extension": ".py",
   "mimetype": "text/x-python",
   "name": "python",
   "nbconvert_exporter": "python",
   "pygments_lexer": "ipython3",
   "version": "3.9.12"
  }
 },
 "nbformat": 4,
 "nbformat_minor": 5
}

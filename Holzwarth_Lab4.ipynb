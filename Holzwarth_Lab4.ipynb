{
 "cells": [
  {
   "cell_type": "code",
   "execution_count": 162,
   "id": "857b71a0",
   "metadata": {},
   "outputs": [],
   "source": [
    "import requests\n",
    "import pandas as pd\n",
    "import json\n",
    "from datetime import datetime\n",
    "import matplotlib.pyplot as plt\n",
    "\n",
    "data = []"
   ]
  },
  {
   "cell_type": "code",
   "execution_count": 163,
   "id": "594860b1",
   "metadata": {
    "scrolled": true
   },
   "outputs": [
    {
     "name": "stdout",
     "output_type": "stream",
     "text": [
      "What is the stock ticker for the stock that you want information from? TSLA\n"
     ]
    },
    {
     "data": {
      "text/plain": [
       "'TSLA'"
      ]
     },
     "execution_count": 163,
     "metadata": {},
     "output_type": "execute_result"
    }
   ],
   "source": [
    "# Get the stock information\n",
    "ticker = input(\"What is the stock ticker for the stock that you want information from? \")\n",
    "ticker"
   ]
  },
  {
   "cell_type": "code",
   "execution_count": 164,
   "id": "4c58d10f",
   "metadata": {},
   "outputs": [],
   "source": [
    "# Basic varibales for both API calls\n",
    "\n",
    "header_var  = {\n",
    "    'User-Agent': 'Mozilla/5.0 (Macintosh; Intel Mac OS X 10_10_1) AppleWebKit/537.36 (KHTML, like Gecko) Chrome/39.0.2171.95 Safari/537.36'}\n",
    "\n",
    "querystring = {\"symbols\": ticker}"
   ]
  },
  {
   "cell_type": "code",
   "execution_count": 165,
   "id": "60627578",
   "metadata": {
    "scrolled": true
   },
   "outputs": [
    {
     "name": "stdout",
     "output_type": "stream",
     "text": [
      "API call successful\n",
      "Stock Exists\n"
     ]
    }
   ],
   "source": [
    "#Check if Stock Exists\n",
    "stock_price_url = 'https://query1.finance.yahoo.com/v7/finance/quote'\n",
    "\n",
    "response = requests.request(\"GET\",stock_price_url,headers=header_var,params=querystring)\n",
    "\n",
    "stock_json = response.json()\n",
    "\n",
    "stock_json\n",
    "\n",
    "if response.status_code == 200:\n",
    "    print(\"API call successful\")\n",
    "else:\n",
    "    print('API call unsuccessful')\n",
    "\n",
    "if stock_json['quoteResponse']['result']:\n",
    "    print(\"Stock Exists\")\n",
    "else:\n",
    "    print(\"Stock does not exist\")"
   ]
  },
  {
   "cell_type": "code",
   "execution_count": 166,
   "id": "e17486ab",
   "metadata": {},
   "outputs": [],
   "source": [
    "# Ticker, Long name, current price API call\n",
    "\n",
    "stock_price_url = 'https://query1.finance.yahoo.com/v7/finance/quote'\n",
    "\n",
    "response = requests.request(\"GET\",stock_price_url,headers=header_var,params=querystring)\n",
    "\n",
    "stock_json = response.json()"
   ]
  },
  {
   "cell_type": "code",
   "execution_count": 167,
   "id": "919570c4",
   "metadata": {},
   "outputs": [],
   "source": [
    "# Target Mean Price, Cash, and Profit Margin API call\n",
    "\n",
    "balance_sheet_url = 'https://query1.finance.yahoo.com/v10/finance/quoteSummary/'+ticker+'?modules=financialData'\n",
    "\n",
    "response1 = requests.request(\"GET\",balance_sheet_url,headers=header_var,params=querystring)\n",
    "\n",
    "balance_json = response1.json()"
   ]
  },
  {
   "cell_type": "code",
   "execution_count": 168,
   "id": "971ceccb",
   "metadata": {},
   "outputs": [
    {
     "name": "stdout",
     "output_type": "stream",
     "text": [
      "Ticker:  TSLA\n",
      "Full name:  Tesla, Inc.\n",
      "Current Price: $ 224.01\n",
      "Target Mean Price: $294.78\n",
      "Cash on Hand: $18.92B\n",
      "Profit Margin:  14.17%\n"
     ]
    }
   ],
   "source": [
    "# Return Ticker, Full Name, Current Price, Target Mean Price, Cash, Profit Margin\n",
    "print(\"Ticker: \", stock_json['quoteResponse']['result'][0]['symbol'])\n",
    "print(\"Full name: \", stock_json['quoteResponse']['result'][0]['longName'])\n",
    "print(\"Current Price: $\", stock_json['quoteResponse']['result'][0]['regularMarketOpen'])\n",
    "print(\"Target Mean Price: $\"+ balance_json['quoteSummary']['result'][0]['financialData']['targetMeanPrice']['fmt'])\n",
    "print(\"Cash on Hand: $\"+ balance_json[\"quoteSummary\"]['result'][0]['financialData']['totalCash']['fmt'])\n",
    "print(\"Profit Margin: \", balance_json[\"quoteSummary\"]['result'][0]['financialData']['profitMargins']['fmt'])\n",
    "\n",
    "# Variables for inputting into Dataframe\n",
    "stock_ticker = stock_json['quoteResponse']['result'][0]['symbol']\n",
    "stock_full_name = stock_json['quoteResponse']['result'][0]['longName']\n",
    "stock_current_price = stock_json['quoteResponse']['result'][0]['regularMarketOpen']\n",
    "stock_target_mean_price = balance_json['quoteSummary']['result'][0]['financialData']['targetMeanPrice']['fmt']\n",
    "stock_cash = balance_json[\"quoteSummary\"]['result'][0]['financialData']['totalCash']['fmt']\n",
    "stock_profit_margin = balance_json[\"quoteSummary\"]['result'][0]['financialData']['profitMargins']['fmt']"
   ]
  },
  {
   "cell_type": "code",
   "execution_count": 169,
   "id": "bf933fb2",
   "metadata": {},
   "outputs": [
    {
     "data": {
      "text/plain": [
       "'[{\"Date\":\"10\\\\/16\\\\/22\",\"Ticker\":\"TSLA\",\"Full Name\":\"Tesla, Inc.\",\"Current Price\":224.01,\"Target Mean Price\":\"294.78\",\"Cash on Hand\":\"18.92B\",\"Profit Margin\":\"14.17%\"}]'"
      ]
     },
     "execution_count": 169,
     "metadata": {},
     "output_type": "execute_result"
    }
   ],
   "source": [
    "# Write Information in JSON format from a dataframe\n",
    "today = datetime.today()\n",
    "current_date = today.strftime(\"%m/%d/%y\")\n",
    "\n",
    "data.append([current_date, stock_ticker, stock_full_name, stock_current_price, stock_target_mean_price, stock_cash, stock_profit_margin])\n",
    "columns = ['Date', 'Ticker', 'Full Name', 'Current Price', 'Target Mean Price', 'Cash on Hand', 'Profit Margin']\n",
    "\n",
    "input_track = pd.DataFrame(data, columns=columns)\n",
    "\n",
    "json_format = input_track.to_json(orient = 'records')\n",
    "json_format"
   ]
  },
  {
   "cell_type": "code",
   "execution_count": 170,
   "id": "3c8cfb14",
   "metadata": {},
   "outputs": [
    {
     "data": {
      "text/plain": [
       "[<matplotlib.lines.Line2D at 0x7fc047d75790>]"
      ]
     },
     "execution_count": 170,
     "metadata": {},
     "output_type": "execute_result"
    },
    {
     "data": {
      "image/png": "[encoded data removed]",
      "text/plain": [
       "<Figure size 432x288 with 1 Axes>"
      ]
     },
     "metadata": {
      "needs_background": "light"
     },
     "output_type": "display_data"
    }
   ],
   "source": [
    "#Matplotlib chart\n",
    "stock_chart_url = 'https://query1.finance.yahoo.com/v8/finance/chart/'+ticker+'?metrics=high?&interval=1d&range=5d'\n",
    "\n",
    "response3 = requests.request(\"GET\",stock_chart_url,headers=header_var,params=querystring)\n",
    "\n",
    "chart_json = response3.json()\n",
    "\n",
    "\n",
    "price_day1 = chart_json['chart']['result'][0]['indicators']['quote'][0]['high'][0]\n",
    "price_day2 = chart_json['chart']['result'][0]['indicators']['quote'][0]['high'][1]\n",
    "price_day3 = chart_json['chart']['result'][0]['indicators']['quote'][0]['high'][2]\n",
    "price_day4 = chart_json['chart']['result'][0]['indicators']['quote'][0]['high'][3]\n",
    "price_day5 = chart_json['chart']['result'][0]['indicators']['quote'][0]['high'][4]\n",
    "\n",
    "prices = [price_day1,price_day2,price_day3,price_day4,price_day5]\n",
    "\n",
    "date_day1 = datetime.fromtimestamp(chart_json['chart']['result'][0]['timestamp'][0]).strftime('%m/%d/%y')\n",
    "date_day2 = datetime.fromtimestamp(chart_json['chart']['result'][0]['timestamp'][1]).strftime('%m/%d/%y')\n",
    "date_day3 = datetime.fromtimestamp(chart_json['chart']['result'][0]['timestamp'][2]).strftime('%m/%d/%y')\n",
    "date_day4 = datetime.fromtimestamp(chart_json['chart']['result'][0]['timestamp'][3]).strftime('%m/%d/%y')\n",
    "date_day5 = datetime.fromtimestamp(chart_json['chart']['result'][0]['timestamp'][4]).strftime('%m/%d/%y')\n",
    "\n",
    "dates = [date_day1, date_day2, date_day3, date_day4, date_day5]\n",
    "\n",
    "plt.title(ticker+\" 5 Day High Chart\")\n",
    "plt.plot(dates,prices)"
   ]
  }
 ],
 "metadata": {
  "kernelspec": {
   "display_name": "Python 3 (ipykernel)",
   "language": "python",
   "name": "python3"
  },
  "language_info": {
   "codemirror_mode": {
    "name": "ipython",
    "version": 3
   },
   "file_extension": ".py",
   "mimetype": "text/x-python",
   "name": "python",
   "nbconvert_exporter": "python",
   "pygments_lexer": "ipython3",
   "version": "3.9.12"
  }
 },
 "nbformat": 4,
 "nbformat_minor": 5
}

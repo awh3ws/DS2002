{
 "cells": [
  {
   "cell_type": "code",
   "execution_count": 41,
   "id": "0b64f965",
   "metadata": {},
   "outputs": [],
   "source": [
    "import sys\n",
    "import re\n",
    "\n",
    "\"\"\"Baby Names exercise\n",
    "\n",
    "Define the extract_names() function below and change main()\n",
    "to call it.\n",
    "\n",
    "Suggested milestones for incremental development:\n",
    " -Extract the year and print it\n",
    " -Extract the names and rank numbers and just print them\n",
    " -Get the names data into a dict and print it\n",
    " -Build the [year, 'name rank', ... ] list and print it\n",
    " -Fix main() to use the extract_names list\n",
    "\"\"\"\n",
    "\n",
    "filenames = [\"/Users/andrewholzwarth/Desktop/DS 2002/google-python-exercises/babynames/baby2006.html\",\n",
    "             \"/Users/andrewholzwarth/Desktop/DS 2002/google-python-exercises/babynames/baby2008.html\"]\n",
    "\n",
    "#test output\n",
    "#f = open(filename, 'r')\n",
    "#baby_name_text = f.read()\n",
    "\n",
    "#baby_name_text"
   ]
  },
  {
   "cell_type": "code",
   "execution_count": 43,
   "id": "d23d6f61",
   "metadata": {},
   "outputs": [],
   "source": [
    "def extract_names(filename):\n",
    "\n",
    "    names = []\n",
    "    \n",
    "    #open the file\n",
    "    f = open(filename, 'r')\n",
    "    baby_name_text = f.read()\n",
    "    \n",
    "    #get the year \n",
    "    year = re.search(r'value=\"(\\d\\d\\d\\d)\"', baby_name_text)\n",
    "    year = year.group(1)\n",
    "    names.append(year)\n",
    "    #print(year)\n",
    "    \n",
    "    #get the rank and names\n",
    "    name = re.findall(r'<td>(\\d+)</td><td>(\\w+)</td>\\<td>(\\w+)</td>', baby_name_text)\n",
    "    #print(name_output)\n",
    "    \n",
    "    #get names into dictionary\n",
    "    rank_name = {}\n",
    "    for each in name:\n",
    "        (rank, boy, girl) = each\n",
    "        rank_name[boy] = rank\n",
    "        rank_name[girl] = rank\n",
    "    #print(rank_name)\n",
    "    \n",
    "    #get name/rank into alphabetical list\n",
    "    sorted_names = sorted(rank_name.keys())\n",
    "    for each in sorted_names:\n",
    "        names.append(each +\" \"+ rank_name[each])\n",
    "    \n",
    "    #return the names list\n",
    "    return names\n",
    "\n",
    "#test to make sure function works\n",
    "#extract_names(filename)"
   ]
  },
  {
   "cell_type": "code",
   "execution_count": 44,
   "id": "6846cb2c",
   "metadata": {},
   "outputs": [
    {
     "ename": "FileNotFoundError",
     "evalue": "[Errno 2] No such file or directory: '-f'",
     "output_type": "error",
     "traceback": [
      "\u001b[0;31m---------------------------------------------------------------------------\u001b[0m",
      "\u001b[0;31mFileNotFoundError\u001b[0m                         Traceback (most recent call last)",
      "Input \u001b[0;32mIn [44]\u001b[0m, in \u001b[0;36m<cell line: 30>\u001b[0;34m()\u001b[0m\n\u001b[1;32m     28\u001b[0m         \u001b[38;5;28mprint\u001b[39m(text)\n\u001b[1;32m     30\u001b[0m \u001b[38;5;28;01mif\u001b[39;00m \u001b[38;5;18m__name__\u001b[39m \u001b[38;5;241m==\u001b[39m \u001b[38;5;124m'\u001b[39m\u001b[38;5;124m__main__\u001b[39m\u001b[38;5;124m'\u001b[39m:\n\u001b[0;32m---> 31\u001b[0m     \u001b[43mmain\u001b[49m\u001b[43m(\u001b[49m\u001b[43m)\u001b[49m\n",
      "Input \u001b[0;32mIn [44]\u001b[0m, in \u001b[0;36mmain\u001b[0;34m()\u001b[0m\n\u001b[1;32m     17\u001b[0m \u001b[38;5;66;03m# +++your code here+++\u001b[39;00m\n\u001b[1;32m     18\u001b[0m \u001b[38;5;66;03m# For each filename, get the names, then either print the text output\u001b[39;00m\n\u001b[1;32m     19\u001b[0m \u001b[38;5;66;03m# or write it to a summary file\u001b[39;00m\n\u001b[1;32m     20\u001b[0m   \u001b[38;5;28;01mfor\u001b[39;00m each \u001b[38;5;129;01min\u001b[39;00m args:\n\u001b[0;32m---> 21\u001b[0m       names \u001b[38;5;241m=\u001b[39m \u001b[43mextract_names\u001b[49m\u001b[43m(\u001b[49m\u001b[43meach\u001b[49m\u001b[43m)\u001b[49m\n\u001b[1;32m     23\u001b[0m       text \u001b[38;5;241m=\u001b[39m \u001b[38;5;124m'\u001b[39m\u001b[38;5;130;01m\\n\u001b[39;00m\u001b[38;5;124m'\u001b[39m\u001b[38;5;241m.\u001b[39mjoin(names) \u001b[38;5;241m+\u001b[39m \u001b[38;5;124m'\u001b[39m\u001b[38;5;130;01m\\n\u001b[39;00m\u001b[38;5;124m'\u001b[39m\n\u001b[1;32m     25\u001b[0m       f \u001b[38;5;241m=\u001b[39m \u001b[38;5;28mopen\u001b[39m(\u001b[38;5;124m'\u001b[39m\u001b[38;5;124mbabynames.txt\u001b[39m\u001b[38;5;124m'\u001b[39m, \u001b[38;5;124m'\u001b[39m\u001b[38;5;124mw\u001b[39m\u001b[38;5;124m'\u001b[39m)\n",
      "Input \u001b[0;32mIn [43]\u001b[0m, in \u001b[0;36mextract_names\u001b[0;34m(filename)\u001b[0m\n\u001b[1;32m      3\u001b[0m names \u001b[38;5;241m=\u001b[39m []\n\u001b[1;32m      5\u001b[0m \u001b[38;5;66;03m#open the file\u001b[39;00m\n\u001b[0;32m----> 6\u001b[0m f \u001b[38;5;241m=\u001b[39m \u001b[38;5;28;43mopen\u001b[39;49m\u001b[43m(\u001b[49m\u001b[43mfilename\u001b[49m\u001b[43m,\u001b[49m\u001b[43m \u001b[49m\u001b[38;5;124;43m'\u001b[39;49m\u001b[38;5;124;43mr\u001b[39;49m\u001b[38;5;124;43m'\u001b[39;49m\u001b[43m)\u001b[49m\n\u001b[1;32m      7\u001b[0m baby_name_text \u001b[38;5;241m=\u001b[39m f\u001b[38;5;241m.\u001b[39mread()\n\u001b[1;32m      9\u001b[0m \u001b[38;5;66;03m#get the year \u001b[39;00m\n",
      "\u001b[0;31mFileNotFoundError\u001b[0m: [Errno 2] No such file or directory: '-f'"
     ]
    }
   ],
   "source": [
    "def main():\n",
    "  # This command-line parsing code is provided.\n",
    "  # Make a list of command line arguments, omitting the [0] element\n",
    "  # which is the script itself.\n",
    "    args = sys.argv[1:]\n",
    "\n",
    "    if not args:\n",
    "        print('usage: [--summaryfile] file [file ...]')\n",
    "        sys.exit(1)\n",
    "\n",
    "  # Notice the summary flag and remove it from args if it is present.\n",
    "    summary = False\n",
    "    if args[0] == '--summaryfile':\n",
    "        summary = True\n",
    "        del args[0]\n",
    "\n",
    "  # +++your code here+++\n",
    "  # For each filename, get the names, then either print the text output\n",
    "  # or write it to a summary file\n",
    "    for each in args:\n",
    "        names = extract_names(each)\n",
    "        \n",
    "        text = '\\n'.join(names) + '\\n'\n",
    "\n",
    "        f = open('babynames.txt', 'w')\n",
    "        f.write(text)\n",
    "        f.close()\n",
    "        print(text)\n",
    "                \n",
    "if __name__ == '__main__':\n",
    "    main()\n",
    "\n"
   ]
  }
 ],
 "metadata": {
  "kernelspec": {
   "display_name": "Python 3 (ipykernel)",
   "language": "python",
   "name": "python3"
  },
  "language_info": {
   "codemirror_mode": {
    "name": "ipython",
    "version": 3
   },
   "file_extension": ".py",
   "mimetype": "text/x-python",
   "name": "python",
   "nbconvert_exporter": "python",
   "pygments_lexer": "ipython3",
   "version": "3.9.12"
  }
 },
 "nbformat": 4,
 "nbformat_minor": 5
}
